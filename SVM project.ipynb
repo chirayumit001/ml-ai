{
 "cells": [
  {
   "cell_type": "code",
   "execution_count": 2,
   "id": "0217ba4b",
   "metadata": {},
   "outputs": [],
   "source": [
    "import cv2\n",
    "\n"
   ]
  },
  {
   "cell_type": "code",
   "execution_count": 3,
   "id": "63466f86",
   "metadata": {},
   "outputs": [],
   "source": [
    "path = r'C:\\Users\\chira\\OneDrive\\Desktop\\ml-ai\\m.png'\n",
    "\n",
    "im = cv2.imread('m.png')\n",
    "# hsv = cv2.cvtColor(im, cv2.COLOR_BGR2HSV)\n",
    "# th, bw = cv2.threshold(hsv[:, :, 2], 0, 255, cv2.THRESH_BINARY | cv2.THRESH_OTSU)\n",
    "# kernel = cv2.getStructuringElement(cv2.MORPH_ELLIPSE, (3, 3))\n",
    "# morph = cv2.morphologyEx(bw, cv2.MORPH_CLOSE, kernel)\n",
    "# dist = cv2.distanceTransform(morph, cv2.DIST_L2, cv2.DIST_MASK_PRECISE)\n",
    "# borderSize = 75\n",
    "# distborder = cv2.copyMakeBorder(dist, borderSize, borderSize, borderSize, borderSize, \n",
    "#                                 cv2.BORDER_CONSTANT | cv2.BORDER_ISOLATED, 0)\n",
    "# gap = 10                                \n",
    "# kernel2 = cv2.getStructuringElement(cv2.MORPH_ELLIPSE, (2*(borderSize-gap)+1, 2*(borderSize-gap)+1))\n",
    "# kernel2 = cv2.copyMakeBorder(kernel2, gap, gap, gap, gap, \n",
    "#                                 cv2.BORDER_CONSTANT | cv2.BORDER_ISOLATED, 0)\n",
    "# distTempl = cv2.distanceTransform(kernel2, cv2.DIST_L2, cv2.DIST_MASK_PRECISE)\n",
    "# nxcor = cv2.matchTemplate(distborder, distTempl, cv2.TM_CCOEFF_NORMED)\n",
    "# mn, mx, _, _ = cv2.minMaxLoc(nxcor)\n",
    "# th, peaks = cv2.threshold(nxcor, mx*0.5, 255, cv2.THRESH_BINARY)\n",
    "# peaks8u = cv2.convertScaleAbs(peaks)\n",
    "# contours, hierarchy = cv2.findContours(peaks8u, cv2.RETR_CCOMP, cv2.CHAIN_APPROX_SIMPLE)\n",
    "# peaks8u = cv2.convertScaleAbs(peaks)    # to use as mask\n"
   ]
  },
  {
   "cell_type": "code",
   "execution_count": 4,
   "id": "0bf8aceb",
   "metadata": {},
   "outputs": [],
   "source": [
    "\n",
    "img = cv2.imread(path)\n",
    "cv2.imshow('window_name', img)"
   ]
  },
  {
   "cell_type": "code",
   "execution_count": 8,
   "id": "665e6186",
   "metadata": {},
   "outputs": [
    {
     "name": "stdout",
     "output_type": "stream",
     "text": [
      "[]\n"
     ]
    },
    {
     "ename": "",
     "evalue": "",
     "output_type": "error",
     "traceback": [
      "\u001b[1;31mThe Kernel crashed while executing code in the the current cell or a previous cell. Please review the code in the cell(s) to identify a possible cause of the failure. Click <a href='https://aka.ms/vscodeJupyterKernelCrash'>here</a> for more info. View Jupyter <a href='command:jupyter.viewOutput'>log</a> for further details."
     ]
    }
   ],
   "source": [
    "import tensorflow as tf\n",
    "\n",
    "print(tf.config.list_physical_devices(\"gpu\"))"
   ]
  },
  {
   "cell_type": "code",
   "execution_count": 8,
   "id": "7a40dd69",
   "metadata": {},
   "outputs": [],
   "source": [
    "for i in range(len(contours)):\n",
    "    x, y, w, h = cv2.boundingRect(contours[i])\n",
    "    _, mx, _, mxloc = cv2.minMaxLoc(dist[y:y+h, x:x+w], peaks8u[y:y+h, x:x+w])\n",
    "    cv2.circle(im, (int(mxloc[0]+x), int(mxloc[1]+y)), int(mx), (255, 0, 0), 2)\n",
    "    cv2.rectangle(im, (x, y), (x+w, y+h), (0, 255, 255), 2)\n",
    "    cv2.drawContours(im, contours, i, (0, 0, 255), 2)\n",
    "\n",
    "cv2.imshow('circles', img)"
   ]
  },
  {
   "cell_type": "code",
   "execution_count": null,
   "id": "7900603f",
   "metadata": {},
   "outputs": [],
   "source": []
  }
 ],
 "metadata": {
  "kernelspec": {
   "display_name": "Python 3 (ipykernel)",
   "language": "python",
   "name": "python3"
  },
  "language_info": {
   "codemirror_mode": {
    "name": "ipython",
    "version": 3
   },
   "file_extension": ".py",
   "mimetype": "text/x-python",
   "name": "python",
   "nbconvert_exporter": "python",
   "pygments_lexer": "ipython3",
   "version": "3.10.9"
  }
 },
 "nbformat": 4,
 "nbformat_minor": 5
}
