{
 "cells": [
  {
   "cell_type": "code",
   "execution_count": 1,
   "metadata": {
    "id": "whyChvCRyfYT"
   },
   "outputs": [],
   "source": [
    "import tensorflow as tf\n",
    "from tensorflow.keras.layers import Input, Dense, Flatten \n",
    "from tensorflow.keras.models import Model\n",
    "from tensorflow.keras.applications.vgg16 import VGG16\n",
    "from tensorflow.keras.applications.vgg16 import preprocess_input\n",
    "from tensorflow.keras.preprocessing.image import ImageDataGenerator\n",
    "from tensorflow.keras.preprocessing import image_dataset_from_directory\n",
    "import cv2\n",
    "import numpy as np\n",
    "import os\n",
    "import pandas as pd"
   ]
  },
  {
   "cell_type": "code",
   "execution_count": 5,
   "metadata": {
    "id": "FyNTLMIEzqen",
    "outputId": "0fc6346e-2c06-42a9-9a01-ea38e5e6a98a"
   },
   "outputs": [
    {
     "name": "stdout",
     "output_type": "stream",
     "text": [
      "Found 16726 images belonging to 2 classes.\n"
     ]
    }
   ],
   "source": [
    "# example of progressively loading images from file\n",
    "from tensorflow.keras.preprocessing.image import ImageDataGenerator\n",
    "# create generator\n",
    "datagen = ImageDataGenerator(rescale = 1./255,\n",
    "                             shear_range = 0.2,\n",
    "                             zoom_range = 0.2,\n",
    "                             horizontal_flip = True,\n",
    "                             vertical_flip=True,\n",
    "                             rotation_range=30)\n",
    "# prepare an iterators for each dataset\n",
    "train_it = datagen.flow_from_directory(r'C:\\Users\\chira\\OneDrive\\Desktop\\ml-ai\\binary_classification\\TEST', \n",
    "                                       class_mode='categorical',\n",
    "                                       target_size=(224, 224),\n",
    "                                       batch_size=2,\n",
    "                                       seed=7)\n",
    "\n"
   ]
  },
  {
   "cell_type": "code",
   "execution_count": 6,
   "metadata": {},
   "outputs": [
    {
     "data": {
      "text/plain": [
       "<keras.preprocessing.image.DirectoryIterator at 0x2a6a479d780>"
      ]
     },
     "execution_count": 6,
     "metadata": {},
     "output_type": "execute_result"
    }
   ],
   "source": [
    "train_it"
   ]
  },
  {
   "cell_type": "code",
   "execution_count": 7,
   "metadata": {
    "id": "ulsvDJgx0O4v"
   },
   "outputs": [],
   "source": [
    "from tensorflow.keras.layers import Conv2D, MaxPooling2D, Flatten, Dense\n",
    "from tensorflow.keras import Sequential\n"
   ]
  },
  {
   "cell_type": "markdown",
   "metadata": {},
   "source": [
    "## Using CNN"
   ]
  },
  {
   "cell_type": "code",
   "execution_count": 8,
   "metadata": {
    "id": "lo4dLF_A1FlP"
   },
   "outputs": [],
   "source": [
    "model = Sequential()\n",
    "model.add(Conv2D(32, (5,5),padding='valid',activation='relu',input_shape=(224,224,3)))\n",
    "model.add(MaxPooling2D(pool_size=(4,4)))\n",
    "model.add(Flatten())\n",
    "model.add(Dense(128,activation='relu'))\n",
    "model.add(Dense(2,activation='softmax'))"
   ]
  },
  {
   "cell_type": "code",
   "execution_count": 9,
   "metadata": {
    "id": "o3lhArtM1H51"
   },
   "outputs": [],
   "source": [
    "from tensorflow.keras.losses import CategoricalCrossentropy\n",
    "model.compile(\n",
    "  optimizer='adam',\n",
    "  loss=CategoricalCrossentropy(),\n",
    "  metrics=['accuracy'])"
   ]
  },
  {
   "cell_type": "code",
   "execution_count": 10,
   "metadata": {
    "id": "OtqgWJ1l1P2A",
    "outputId": "c6da73fa-ee4c-4516-87b3-6d5099770938"
   },
   "outputs": [
    {
     "name": "stdout",
     "output_type": "stream",
     "text": [
      "Epoch 1/5\n",
      "8363/8363 [==============================] - 290s 34ms/step - loss: 0.4844 - accuracy: 0.8005\n",
      "Epoch 2/5\n",
      "8363/8363 [==============================] - 151s 18ms/step - loss: 0.4362 - accuracy: 0.8218\n",
      "Epoch 3/5\n",
      "8363/8363 [==============================] - 199s 24ms/step - loss: 0.4122 - accuracy: 0.8331\n",
      "Epoch 4/5\n",
      "8363/8363 [==============================] - 176s 21ms/step - loss: 0.4272 - accuracy: 0.8334\n",
      "Epoch 5/5\n",
      "8363/8363 [==============================] - 163s 19ms/step - loss: 0.4051 - accuracy: 0.8347\n"
     ]
    }
   ],
   "source": [
    "history = model.fit( \n",
    "  train_it,\n",
    "  epochs=5)"
   ]
  },
  {
   "cell_type": "code",
   "execution_count": null,
   "metadata": {
    "id": "2TJKtlw11WSR"
   },
   "outputs": [],
   "source": [
    "model.save(\"model.h5\")"
   ]
  },
  {
   "cell_type": "markdown",
   "metadata": {},
   "source": [
    "## Checking model with external image"
   ]
  },
  {
   "cell_type": "code",
   "execution_count": 12,
   "metadata": {
    "id": "vAuXPy-eZL3d"
   },
   "outputs": [
    {
     "name": "stdout",
     "output_type": "stream",
     "text": [
      "1/1 [==============================] - 1s 593ms/step\n"
     ]
    }
   ],
   "source": [
    "from tensorflow.keras.utils import load_img\n",
    "image = load_img(r'C:\\Users\\chira\\OneDrive\\Desktop\\ml-ai\\binary_classification\\TRAIN.1_BIODEG_ORI_0.jpg', target_size=(224, 224))\n",
    "img = np.array(image)\n",
    "img = img / 255.0\n",
    "img = img.reshape(1,224,224,3)\n",
    "label = model.predict(img)"
   ]
  },
  {
   "cell_type": "code",
   "execution_count": 13,
   "metadata": {
    "id": "qEG5_pAOZTFL"
   },
   "outputs": [
    {
     "data": {
      "text/plain": [
       "array([[0.9276457 , 0.07235437]], dtype=float32)"
      ]
     },
     "execution_count": 13,
     "metadata": {},
     "output_type": "execute_result"
    }
   ],
   "source": [
    "label"
   ]
  },
  {
   "cell_type": "code",
   "execution_count": 14,
   "metadata": {
    "id": "xTRrB6VsZ_GK",
    "outputId": "5d817ebb-b460-4d46-ab88-2c37564067e6"
   },
   "outputs": [],
   "source": [
    "l={\"Biodegradable\":label[0][0],\"NON-Biodegradable\":label[0][1]}\n",
    "def get_key(val):\n",
    "    for key, value in l.items():\n",
    "         if val == value:\n",
    "             return key\n",
    " \n",
    "    return \"key doesn't exist\"\n",
    "#label[0][1]"
   ]
  },
  {
   "cell_type": "code",
   "execution_count": 15,
   "metadata": {
    "id": "wF1u8MEQaCjB"
   },
   "outputs": [
    {
     "data": {
      "text/plain": [
       "'Biodegradable'"
      ]
     },
     "execution_count": 15,
     "metadata": {},
     "output_type": "execute_result"
    }
   ],
   "source": [
    "check=label.max()\n",
    "get_key(check)"
   ]
  },
  {
   "cell_type": "code",
   "execution_count": null,
   "metadata": {
    "id": "psmQdX5kaVkc"
   },
   "outputs": [],
   "source": []
  },
  {
   "cell_type": "code",
   "execution_count": null,
   "metadata": {
    "id": "xK_uSPZVaZf5"
   },
   "outputs": [],
   "source": []
  },
  {
   "cell_type": "code",
   "execution_count": null,
   "metadata": {
    "id": "y986Z_h0bImg"
   },
   "outputs": [],
   "source": []
  }
 ],
 "metadata": {
  "kernelspec": {
   "display_name": "Python 3 (ipykernel)",
   "language": "python",
   "name": "python3"
  },
  "language_info": {
   "codemirror_mode": {
    "name": "ipython",
    "version": 3
   },
   "file_extension": ".py",
   "mimetype": "text/x-python",
   "name": "python",
   "nbconvert_exporter": "python",
   "pygments_lexer": "ipython3",
   "version": "3.10.9"
  }
 },
 "nbformat": 4,
 "nbformat_minor": 4
}
